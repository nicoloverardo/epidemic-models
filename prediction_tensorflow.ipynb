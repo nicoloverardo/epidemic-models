{
 "cells": [
  {
   "cell_type": "code",
   "execution_count": null,
   "metadata": {
    "colab": {},
    "colab_type": "code",
    "id": "rLspu7k2oi43"
   },
   "outputs": [],
   "source": [
    "import pandas as pd\n",
    "import numpy as np"
   ]
  },
  {
   "cell_type": "code",
   "execution_count": null,
   "metadata": {
    "colab": {},
    "colab_type": "code",
    "id": "jZQIRNbao9ah"
   },
   "outputs": [],
   "source": [
    "a = pd.read_csv(\"https://raw.githubusercontent.com/pcm-dpc/COVID-19/master/dati-regioni/dpc-covid19-ita-regioni.csv\")\n",
    "a.sort_values(by=['denominazione_regione', 'data'], inplace=True)\n",
    "regioni = a.denominazione_regione.unique()\n",
    "nuovi_pos = [a[a.denominazione_regione == regione][\"nuovi_positivi\"].values.tolist() for regione in regioni]\n",
    "k1 = pd.DataFrame(np.column_stack(nuovi_pos), columns=regioni)"
   ]
  },
  {
   "cell_type": "code",
   "execution_count": null,
   "metadata": {
    "colab": {
     "base_uri": "https://localhost:8080/",
     "height": 460
    },
    "colab_type": "code",
    "id": "5--kDlqUsiqq",
    "outputId": "f6d347d2-f2cf-4111-a5ca-9cf8f0bf1f15"
   },
   "outputs": [],
   "source": [
    "k1"
   ]
  },
  {
   "cell_type": "code",
   "execution_count": null,
   "metadata": {
    "colab": {},
    "colab_type": "code",
    "id": "pblNpvdiuzJ0"
   },
   "outputs": [],
   "source": [
    "import tensorflow as tf\n",
    "from tensorflow import keras\n",
    "import pandas as pd\n",
    "import seaborn as sns\n",
    "from pylab import rcParams\n",
    "import matplotlib.pyplot as plt\n",
    "from matplotlib import rc"
   ]
  },
  {
   "cell_type": "code",
   "execution_count": null,
   "metadata": {
    "colab": {
     "base_uri": "https://localhost:8080/",
     "height": 406
    },
    "colab_type": "code",
    "id": "4LCyu_ELv3DW",
    "outputId": "7af3256e-125f-4335-c698-f19987974dcc"
   },
   "outputs": [],
   "source": [
    "import time\n",
    "k1['date'] = pd.date_range(start='24/02/2020', periods=len(k1), freq='D')\n",
    "k1.set_index('date')\n",
    "k2=k1.filter(['Lazio'])\n",
    "k2\n",
    "#tf.timestamp(k2.date)"
   ]
  },
  {
   "cell_type": "code",
   "execution_count": null,
   "metadata": {
    "colab": {
     "base_uri": "https://localhost:8080/",
     "height": 34
    },
    "colab_type": "code",
    "id": "CwreFgh6zv65",
    "outputId": "de2b81a7-557a-494d-b42d-0147bd267282"
   },
   "outputs": [],
   "source": [
    "train_size = int(len(k2) * 0.8)\n",
    "test_size = len(k2) - train_size\n",
    "train, test = k2.iloc[0:train_size], k2.iloc[train_size:len(k2)]\n",
    "print(len(train), len(test))\n"
   ]
  },
  {
   "cell_type": "code",
   "execution_count": null,
   "metadata": {
    "colab": {},
    "colab_type": "code",
    "id": "vhxgQSFyvrfg"
   },
   "outputs": [],
   "source": [
    "def create_dataset(X, y, time_steps=1):\n",
    "    Xs, ys = [], []\n",
    "    for i in range(len(X) - time_steps):\n",
    "        v = X.iloc[i:(i + time_steps)].values\n",
    "        Xs.append(v)\n",
    "        ys.append(y.iloc[i + time_steps])\n",
    "    return np.array(Xs), np.array(ys)"
   ]
  },
  {
   "cell_type": "code",
   "execution_count": null,
   "metadata": {
    "colab": {
     "base_uri": "https://localhost:8080/",
     "height": 34
    },
    "colab_type": "code",
    "id": "agQFUXu4xpqp",
    "outputId": "626056c3-3216-47fe-90dc-750a7b5ef467"
   },
   "outputs": [],
   "source": [
    "time_steps = 7\n",
    "\n",
    "# reshape to [samples, time_steps, n_features]\n",
    "\n",
    "X_train, y_train = create_dataset(train, train.Lazio, time_steps)\n",
    "X_test, y_test = create_dataset(test, test.Lazio, time_steps)\n",
    "\n",
    "print(X_train.shape, y_train.shape)"
   ]
  },
  {
   "cell_type": "code",
   "execution_count": null,
   "metadata": {
    "colab": {},
    "colab_type": "code",
    "id": "wfUQvQPowmzN"
   },
   "outputs": [],
   "source": [
    "from tensorflow import keras\n",
    "model = keras.Sequential()\n",
    "model.add(keras.layers.LSTM(\n",
    "  units=128,\n",
    "  input_shape=(X_train.shape[1], X_train.shape[2])\n",
    "))\n",
    "model.add(keras.layers.Dense(units=1))\n",
    "model.compile(\n",
    "  loss='mean_squared_error',\n",
    "  optimizer=keras.optimizers.Adam(0.001)\n",
    ")\n"
   ]
  },
  {
   "cell_type": "code",
   "execution_count": null,
   "metadata": {
    "colab": {},
    "colab_type": "code",
    "id": "d-Jrz4PA1-zj"
   },
   "outputs": [],
   "source": [
    "xt=tf.convert_to_tensor(X_train, dtype=tf.float32)\n",
    "yt=tf.convert_to_tensor(y_train, dtype=tf.float32)\n",
    "xtt=tf.convert_to_tensor(X_test, dtype=tf.float32)\n",
    "ytt=tf.convert_to_tensor(y_test, dtype=tf.float32)"
   ]
  },
  {
   "cell_type": "code",
   "execution_count": null,
   "metadata": {
    "colab": {
     "base_uri": "https://localhost:8080/",
     "height": 1000
    },
    "colab_type": "code",
    "id": "bXQPXtmZx3XN",
    "outputId": "8deab919-ca0b-4953-d22d-e5d00995761a"
   },
   "outputs": [],
   "source": [
    "history = model.fit(\n",
    "    xt, yt,\n",
    "    epochs=30,\n",
    "    batch_size=16,\n",
    "    validation_split=0.1,\n",
    "    verbose=1,\n",
    "    shuffle=False\n",
    ")"
   ]
  },
  {
   "cell_type": "code",
   "execution_count": null,
   "metadata": {
    "colab": {},
    "colab_type": "code",
    "id": "w2MSCOiN1cEO"
   },
   "outputs": [],
   "source": [
    "y_pred = model.predict(xtt)\n"
   ]
  },
  {
   "cell_type": "code",
   "execution_count": null,
   "metadata": {
    "colab": {
     "base_uri": "https://localhost:8080/",
     "height": 372
    },
    "colab_type": "code",
    "id": "XjTqeIVG8NvV",
    "outputId": "855897d3-b044-459e-bd94-48ac003cad35"
   },
   "outputs": [],
   "source": [
    "print(y_pred)"
   ]
  }
 ],
 "metadata": {
  "colab": {
   "name": "Sequential Decision tree prediction of new cases from tensorflow_kereas.ipynb",
   "provenance": []
  },
  "kernelspec": {
   "display_name": "Python 3",
   "language": "python",
   "name": "python3"
  },
  "language_info": {
   "codemirror_mode": {
    "name": "ipython",
    "version": 3
   },
   "file_extension": ".py",
   "mimetype": "text/x-python",
   "name": "python",
   "nbconvert_exporter": "python",
   "pygments_lexer": "ipython3",
   "version": "3.7.7"
  }
 },
 "nbformat": 4,
 "nbformat_minor": 4
}
